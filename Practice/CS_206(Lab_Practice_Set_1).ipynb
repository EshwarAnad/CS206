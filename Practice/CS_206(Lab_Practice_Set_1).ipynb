{
 "cells": [
  {
   "cell_type": "markdown",
   "metadata": {
    "colab_type": "text",
    "id": "1YVyVJJkwRMp"
   },
   "source": [
    "#1. Introduction to Python\n",
    "Python is a high-level, interpreted scripting language developed in the late 1980s by Guido van Rossum at the Centrum Wiskunde & Informatica (CWI), Amsterdum, Netherlands. \n",
    "\n",
    "Initially published at the alt.sources newsgroup in 1991, the first version 1.0 was released in 1994.\n",
    "\n",
    "Python is Portable and simple to code. It is widely used in data science.  Well suited for coding deep learning algorithms using NumPy and Tensorflow. \n"
   ]
  },
  {
   "cell_type": "markdown",
   "metadata": {
    "colab_type": "text",
    "id": "bXdL0g7lxJsh"
   },
   "source": [
    "1.1 Output printing"
   ]
  },
  {
   "cell_type": "markdown",
   "metadata": {
    "colab_type": "text",
    "id": "pUT83czrG8Th"
   },
   "source": []
  },
  {
   "cell_type": "code",
   "execution_count": 0,
   "metadata": {
    "colab": {
     "base_uri": "https://localhost:8080/",
     "height": 35
    },
    "colab_type": "code",
    "id": "DrddoE-ew2y1",
    "outputId": "5d51b4cb-5b4f-4672-bbac-51051f24f426"
   },
   "outputs": [
    {
     "name": "stdout",
     "output_type": "stream",
     "text": [
      "Welcome to CS-206 lab session. \n"
     ]
    }
   ],
   "source": [
    "print(\"Welcome to CS-206 lab session. \")"
   ]
  },
  {
   "cell_type": "markdown",
   "metadata": {
    "colab_type": "text",
    "id": "0doKHLEkxb8z"
   },
   "source": [
    "1.2 User Input"
   ]
  },
  {
   "cell_type": "code",
   "execution_count": 0,
   "metadata": {
    "colab": {
     "base_uri": "https://localhost:8080/",
     "height": 52
    },
    "colab_type": "code",
    "id": "In41VZaVwKb8",
    "outputId": "d965669b-ebdf-4208-aa75-d18d746acb0e"
   },
   "outputs": [
    {
     "name": "stdout",
     "output_type": "stream",
     "text": [
      "What's your name?poornima\n",
      "Hiiii  poornima\n"
     ]
    }
   ],
   "source": [
    "name = input(\" What's your name?\")\n",
    "print(\"Hiiii  \" + name)"
   ]
  },
  {
   "cell_type": "markdown",
   "metadata": {
    "colab_type": "text",
    "id": "CGHQp5eDxoaJ"
   },
   "source": [
    "1.3 Variable Declaration"
   ]
  },
  {
   "cell_type": "code",
   "execution_count": 0,
   "metadata": {
    "colab": {
     "base_uri": "https://localhost:8080/",
     "height": 52
    },
    "colab_type": "code",
    "id": "OhK2TNrExiWg",
    "outputId": "0a9c330c-e99e-466c-e4c0-d673f469732a"
   },
   "outputs": [
    {
     "name": "stdout",
     "output_type": "stream",
     "text": [
      "20\n",
      "CS-206\n"
     ]
    }
   ],
   "source": [
    "a = 20\n",
    "print(a)\n",
    "b = \"CS-206\"\n",
    "print(b)"
   ]
  },
  {
   "cell_type": "markdown",
   "metadata": {
    "colab_type": "text",
    "id": "OKpUjkHcxzVV"
   },
   "source": [
    "1.4 len() function"
   ]
  },
  {
   "cell_type": "code",
   "execution_count": 0,
   "metadata": {
    "colab": {
     "base_uri": "https://localhost:8080/",
     "height": 35
    },
    "colab_type": "code",
    "id": "FpvzpyLnxrTG",
    "outputId": "6081ba0b-9f23-44a9-914a-ca49385367d1"
   },
   "outputs": [
    {
     "name": "stdout",
     "output_type": "stream",
     "text": [
      "27\n"
     ]
    }
   ],
   "source": [
    "var1 = 'CS-206 (Lab Practice Set 1)'\n",
    "print(len(var1))"
   ]
  },
  {
   "cell_type": "markdown",
   "metadata": {
    "colab_type": "text",
    "id": "UK26PYQr2Av8"
   },
   "source": [
    "1.5 Multiple Assignment"
   ]
  },
  {
   "cell_type": "code",
   "execution_count": 0,
   "metadata": {
    "colab": {
     "base_uri": "https://localhost:8080/",
     "height": 35
    },
    "colab_type": "code",
    "id": "OH8ye4aN1-Aa",
    "outputId": "e1d784a7-1be9-4203-a448-54ec07ef87a4"
   },
   "outputs": [
    {
     "name": "stdout",
     "output_type": "stream",
     "text": [
      "1 5 2 CS-206\n"
     ]
    }
   ],
   "source": [
    "a, b, c, d = 1, 5, 2, \"CS-206\"\n",
    "\n",
    "print(a,b,c,d)"
   ]
  },
  {
   "cell_type": "code",
   "execution_count": 0,
   "metadata": {
    "colab": {
     "base_uri": "https://localhost:8080/",
     "height": 35
    },
    "colab_type": "code",
    "id": "TTW-tNuG2H0u",
    "outputId": "e7acf500-6fd2-477f-c917-14d0a9220969"
   },
   "outputs": [
    {
     "name": "stdout",
     "output_type": "stream",
     "text": [
      "10\n"
     ]
    }
   ],
   "source": [
    "a1 =a2 = a3 = a4 =10\n",
    "\n",
    "print(a1)"
   ]
  },
  {
   "cell_type": "markdown",
   "metadata": {
    "colab_type": "text",
    "id": "5P9zpiYvuN0m"
   },
   "source": [
    "1.6 Swapping"
   ]
  },
  {
   "cell_type": "code",
   "execution_count": 0,
   "metadata": {
    "colab": {
     "base_uri": "https://localhost:8080/",
     "height": 52
    },
    "colab_type": "code",
    "id": "yPgRQ8C52LXb",
    "outputId": "302c7b32-abcf-4b62-88e0-f3442cff52df"
   },
   "outputs": [
    {
     "name": "stdout",
     "output_type": "stream",
     "text": [
      "90 ----- 34\n",
      "34 ----- 90\n"
     ]
    }
   ],
   "source": [
    "value1 =90 ; value2 =34\n",
    "\n",
    "print(value1,'-----',value2)\n",
    "\n",
    "value1,value2 = value2,value1\n",
    "\n",
    "print(value1,'-----',value2)\n"
   ]
  },
  {
   "cell_type": "markdown",
   "metadata": {
    "colab_type": "text",
    "id": "Gl2Ubk2JusqF"
   },
   "source": [
    "# Important note: Python is indent sensitive. \n",
    "\n",
    "* In addition to being case sensitive, Python is indent sensitive.\n",
    "\n",
    "* If you observe the 'for loop' and the 'if-else' statement, there is indent within the loop. \n",
    "\n",
    "* For example if you run the following code, it will show \"IndentationError\". \n",
    "\n",
    "* Run the cell to see the error and correct the code by putting indent. \n",
    "\n",
    "# Correct the error"
   ]
  },
  {
   "cell_type": "code",
   "execution_count": 0,
   "metadata": {
    "colab": {
     "base_uri": "https://localhost:8080/",
     "height": 131
    },
    "colab_type": "code",
    "id": "8P88EY1luoed",
    "outputId": "9f2e919c-3994-47bc-9e20-75716cedaf61"
   },
   "outputs": [
    {
     "ename": "IndentationError",
     "evalue": "ignored",
     "output_type": "error",
     "traceback": [
      "\u001b[0;36m  File \u001b[0;32m\"<ipython-input-7-cb7194b01218>\"\u001b[0;36m, line \u001b[0;32m2\u001b[0m\n\u001b[0;31m    print(number,\"\\n\")\u001b[0m\n\u001b[0m        ^\u001b[0m\n\u001b[0;31mIndentationError\u001b[0m\u001b[0;31m:\u001b[0m expected an indented block\n"
     ]
    }
   ],
   "source": [
    "for number in [1,10,20,30,40,50]:\n",
    "print(number,\"\\n\")"
   ]
  },
  {
   "cell_type": "markdown",
   "metadata": {
    "colab_type": "text",
    "id": "TWfHgU0fuUzB"
   },
   "source": [
    "1.7 If Else conditioning"
   ]
  },
  {
   "cell_type": "code",
   "execution_count": 0,
   "metadata": {
    "colab": {
     "base_uri": "https://localhost:8080/",
     "height": 35
    },
    "colab_type": "code",
    "id": "X7Mj6zpzuRL7",
    "outputId": "5ef7b1fa-a579-417f-fd1f-34d7006d0c5e"
   },
   "outputs": [
    {
     "name": "stdout",
     "output_type": "stream",
     "text": [
      "else block\n"
     ]
    }
   ],
   "source": [
    "if(False == True):\n",
    "    print('if block')\n",
    "else:\n",
    "    print('else block')"
   ]
  },
  {
   "cell_type": "code",
   "execution_count": 0,
   "metadata": {
    "colab": {
     "base_uri": "https://localhost:8080/",
     "height": 52
    },
    "colab_type": "code",
    "id": "rx9XWsQauYZs",
    "outputId": "25aecbbf-1b59-46dd-8b7d-30d1ec57b3d4"
   },
   "outputs": [
    {
     "name": "stdout",
     "output_type": "stream",
     "text": [
      "number4\n",
      "Positive number\n"
     ]
    }
   ],
   "source": [
    "num = input(\"number : \")\n",
    "if int(num) > 0:\n",
    "    print(\"Positive number\")\n",
    "elif int(num) == 0:\n",
    "    print(\"Zero\")\n",
    "else:\n",
    "    print(\"Negative number\")"
   ]
  },
  {
   "cell_type": "markdown",
   "metadata": {
    "colab_type": "text",
    "id": "68HYQ_IUue7-"
   },
   "source": [
    "1.8 Ternary Operator"
   ]
  },
  {
   "cell_type": "code",
   "execution_count": 0,
   "metadata": {
    "colab": {
     "base_uri": "https://localhost:8080/",
     "height": 52
    },
    "colab_type": "code",
    "id": "Ta3awP4CubTG",
    "outputId": "2e1ec219-1a62-49d4-cbeb-10f3c0ebb24d"
   },
   "outputs": [
    {
     "name": "stdout",
     "output_type": "stream",
     "text": [
      "number12\n",
      "positive\n"
     ]
    }
   ],
   "source": [
    "num = input(\"number : \")\n",
    "\n",
    "output=\"positive\" if int(num) > 0 else \"negative\"\n",
    "print(output)"
   ]
  },
  {
   "cell_type": "markdown",
   "metadata": {
    "colab_type": "text",
    "id": "TjJablPqunCQ"
   },
   "source": [
    "1.9 Loop"
   ]
  },
  {
   "cell_type": "code",
   "execution_count": 0,
   "metadata": {
    "colab": {
     "base_uri": "https://localhost:8080/",
     "height": 35
    },
    "colab_type": "code",
    "id": "QEQBNHtHuh4s",
    "outputId": "6ba18e24-0090-40f3-cf28-f5af9c002d18"
   },
   "outputs": [
    {
     "name": "stdout",
     "output_type": "stream",
     "text": [
      "151\n"
     ]
    }
   ],
   "source": [
    "numbers = [1,10,20,30,40,50] \n",
    "sum = 0\n",
    "for number in numbers: \n",
    "    sum = sum + number\n",
    "print(sum)"
   ]
  },
  {
   "cell_type": "code",
   "execution_count": 0,
   "metadata": {
    "colab": {
     "base_uri": "https://localhost:8080/",
     "height": 173
    },
    "colab_type": "code",
    "id": "m0BdcqoHu8I_",
    "outputId": "5d8a976b-785e-4fbc-dd7b-78db5ad170bb"
   },
   "outputs": [
    {
     "name": "stdout",
     "output_type": "stream",
     "text": [
      "1\n",
      "2\n",
      "3\n",
      "4\n",
      "5\n",
      "6\n",
      "7\n",
      "8\n",
      "9\n"
     ]
    }
   ],
   "source": [
    "for i in range(1,10):\n",
    "    print(i)"
   ]
  },
  {
   "cell_type": "markdown",
   "metadata": {
    "colab_type": "text",
    "id": "lPzYaBHpu_S7"
   },
   "source": []
  },
  {
   "cell_type": "markdown",
   "metadata": {
    "colab_type": "text",
    "id": "gZc0tYfJvQm2"
   },
   "source": [
    "##1.10 List in Python\n",
    "\n",
    "Python offers a range of compound datatypes often referred to as sequences. \n",
    "\n",
    "List is one of the most frequently used datatypes used in Python.\n",
    "\n",
    "* A list is created by placing all the items (elements) inside a square bracket [ ], separated by commas.\n",
    "* It can have any number of items and they may be of different types (integer, float, string etc.).\n",
    "\n",
    "**Accessing the elements of the list**\n",
    "\n",
    "You can use the index operator [ ] to access an item in a list. Index starts from 0. So, a list having 5 elements will have indices ranging from 0 to 4."
   ]
  },
  {
   "cell_type": "code",
   "execution_count": 0,
   "metadata": {
    "colab": {
     "base_uri": "https://localhost:8080/",
     "height": 69
    },
    "colab_type": "code",
    "id": "5sYQyffWuzwn",
    "outputId": "b9d96c0c-5969-492f-ffa7-0d56057fb839"
   },
   "outputs": [
    {
     "name": "stdout",
     "output_type": "stream",
     "text": [
      "[]\n",
      "[1, 2, 3]\n",
      "[1, 'CS-206', 2.5]\n"
     ]
    }
   ],
   "source": [
    "# empty list\n",
    "my_list = []\n",
    "print(my_list)\n",
    "# list of integers\n",
    "my_list = [1, 2, 3]\n",
    "print(my_list)\n",
    "# list with mixed datatypes\n",
    "my_list = [1, \"CS-206\", 2.5]\n",
    "print(my_list)"
   ]
  },
  {
   "cell_type": "code",
   "execution_count": 0,
   "metadata": {
    "colab": {
     "base_uri": "https://localhost:8080/",
     "height": 121
    },
    "colab_type": "code",
    "id": "K0HURck8vTSC",
    "outputId": "c2b1be9e-3f7e-4fe8-860e-18cfe7ca52a1"
   },
   "outputs": [
    {
     "name": "stdout",
     "output_type": "stream",
     "text": [
      "['ABC', 1234, 2.34, 'Aditya', 71.2]\n",
      "Aditya\n",
      "[1234, 2.34]\n",
      "[2.34, 'Aditya', 71.2]\n",
      "[123, 'john', 123, 'john']\n",
      "['ABC', 1234, 2.34, 'Aditya', 71.2, 123, 'john']\n"
     ]
    }
   ],
   "source": [
    "list = [ 'ABC', 1234 , 2.34, 'Aditya', 71.2 ]\n",
    "tinylist = [123, 'john']\n",
    "\n",
    "\n",
    "# Check the output of each print statement\n",
    "print (list)          \n",
    "print (list[-2])     \n",
    "print (list[1:3])     \n",
    "print (list[2:])      \n",
    "print (tinylist * 2)  \n",
    "print (list + tinylist)"
   ]
  },
  {
   "cell_type": "code",
   "execution_count": 0,
   "metadata": {
    "colab": {
     "base_uri": "https://localhost:8080/",
     "height": 52
    },
    "colab_type": "code",
    "id": "nqneel2FvYaa",
    "outputId": "7cf2ab38-1099-4b66-f50a-5718c5f116f3"
   },
   "outputs": [
    {
     "name": "stdout",
     "output_type": "stream",
     "text": [
      "['CS-206', 'Project Lab', 11, 15]\n",
      "After deleting value at index 2 :  ['CS-206', 'Project Lab', 15]\n"
     ]
    }
   ],
   "source": [
    "# Deleting and Entry from the list\n",
    "\n",
    "list1 = ['CS-206', 'Project Lab', 11, 15]\n",
    "\n",
    "print (list1)\n",
    "del list1[2]\n",
    "print (\"After deleting value at index 2 : \", list1)"
   ]
  },
  {
   "cell_type": "code",
   "execution_count": 0,
   "metadata": {
    "colab": {
     "base_uri": "https://localhost:8080/",
     "height": 35
    },
    "colab_type": "code",
    "id": "O5Nn44HSve5_",
    "outputId": "b1285298-9461-4344-e646-c966544a45b3"
   },
   "outputs": [
    {
     "name": "stdout",
     "output_type": "stream",
     "text": [
      "[1, 2, 3, 4, 5, 9, 2, 4, 512, 1, 3, 'Aditya', 'Ronit', 'Vikrant']\n"
     ]
    }
   ],
   "source": [
    "# Merging two lists \n",
    "\n",
    "a1 = [1,2,3,4,5,9]\n",
    "a2 = [2,4,512,1,3]\n",
    "a3 = ['Aditya', 'Ronit', 'Vikrant']\n",
    "print(a1+a2+a3)"
   ]
  },
  {
   "cell_type": "markdown",
   "metadata": {
    "colab_type": "text",
    "id": "emgyvyY_vlfo"
   },
   "source": [
    "##1.11 Tuples in Python\n",
    "\n",
    "A Tuple is a collection of Python objects separated by commas. A tuple is somewhat similar to a list in terms of indexing, nested objects and repetition. But it may be noted that a tuple is immutable unlike lists which are mutable."
   ]
  },
  {
   "cell_type": "code",
   "execution_count": 0,
   "metadata": {
    "colab": {
     "base_uri": "https://localhost:8080/",
     "height": 35
    },
    "colab_type": "code",
    "id": "-GveNMsNviTJ",
    "outputId": "0c609436-c0fd-4613-b6ef-f4066bea0554"
   },
   "outputs": [
    {
     "name": "stdout",
     "output_type": "stream",
     "text": [
      "('IIITDM', 'Jabalpur', 'CS-206')\n"
     ]
    }
   ],
   "source": [
    "# Tuples in python\n",
    "\n",
    "tuple1 = ('IIITDM','Jabalpur', 'CS-206')\n",
    "print(tuple1)"
   ]
  },
  {
   "cell_type": "markdown",
   "metadata": {
    "colab_type": "text",
    "id": "IZOzQ2JYvtZ-"
   },
   "source": [
    "# 1.12 NumPy\n",
    "\n",
    "**\"NumPy is a general-purpose fundamental package for scientific computing with Python. It contains various features including these important ones:\n",
    "\n",
    ">A powerful N-dimensional array object\n",
    "\n",
    ">Sophisticated (broadcasting) functions\n",
    "\n",
    ">Tools for integrating C/C++ and Fortran code\n",
    "\n",
    ">Useful linear algebra, Fourier transform, and random number capabilities\n",
    "\n",
    "Besides its obvious scientific uses, NumPy can also be used as an efficient multi-dimensional container of generic data. This allows NumPy to seamlessly and speedily integrate with a wide variety of databases.\"\n",
    "\n",
    " * Source: Official website of NumPy (www.numpy.org) \n",
    " \n",
    " **Let us consider some examples to understand this powerful package.** \n",
    " "
   ]
  },
  {
   "cell_type": "code",
   "execution_count": 0,
   "metadata": {
    "colab": {
     "base_uri": "https://localhost:8080/",
     "height": 121
    },
    "colab_type": "code",
    "id": "o56-3RtNvqeC",
    "outputId": "8485443e-322e-4f10-e04c-3194293714fa"
   },
   "outputs": [
    {
     "name": "stdout",
     "output_type": "stream",
     "text": [
      "[ 5  7  9 12 12]\n",
      "[12 15 18 21 21]\n",
      "No. of dimensions:  1\n",
      "Shape of array:  (5,)\n",
      "Size of array:  5\n",
      "Array stores elements of type:  int64\n"
     ]
    }
   ],
   "source": [
    "# First you need to import the NumPy Library \n",
    "\n",
    "import numpy as np\n",
    "\n",
    "b1 = np.array([1,2,3,5,5])    #Declaring a NumPy Array \n",
    "b2 = np.array([4,5,6,7,7])\n",
    "\n",
    "print(b1+b2)\n",
    "\n",
    "print(b2 * 3)\n",
    "print(\"No. of dimensions: \", b1.ndim)  # Rows in array, considered as a matrix. \n",
    "# Printing shape of array\n",
    "print(\"Shape of array: \", b1.shape)  # Dimension \n",
    " \n",
    "# Printing size (total number of elements) of array\n",
    "print(\"Size of array: \", b1.size) # elements in a row or column elements. \n",
    " \n",
    "# Printing the datatype of elements in array\n",
    "print(\"Array stores elements of type: \", b1.dtype)\n"
   ]
  },
  {
   "cell_type": "markdown",
   "metadata": {
    "colab_type": "text",
    "id": "OYBNEzPMvyS6"
   },
   "source": [
    " #1.13 Operations on Arrays \n",
    "**Array creation:**\n",
    "You can create arrays in NumPy in various ways.\n",
    "\n",
    "For example, you can create an array from a regular Python list or tuple using the array function. \n",
    "\n",
    "The type of the resulting array is deduced from the type of the elements in the sequences. \n",
    "\n",
    "Often, we need to declare arrays whose sizes are known but elements are initially unknown. Hence, NumPy offers many functions to create arrays with initial placeholder content. This minimizes the necessity of growing arrays, which is generally an expensive operation.\n",
    " * Examples: *np.zeros, np.ones, np.full, np.empty*, etc.\n",
    "\n",
    "To create sequences of numbers, NumPy provides a function analogous to range that returns arrays instead of lists.\n",
    "\n",
    "**arange:** returns evenly spaced values within a given interval. In this, step size is specified.\n",
    "\n",
    "**linspace:** returns evenly spaced values within a given interval. Number of elements are returned.\n",
    "\n",
    "**Reshaping array:** The reshape method is used to reshape an array. If you have an array (a1, a2, a3, …, aN) and you want to reshape and convert it into another array of shape (b1, b2, b3, …, bM), you can do it easily using the reshape method. But the only precondition is that \n",
    "a1 x a2 x a3 … x aN = b1 x b2 x b3 … x bM . (i.e. , the total number of elements in the array should be the same, or the original size of array should remain unchanged.)\n",
    "\n",
    "**Flatten array:** The flatten method is used to convert an array  into one dimension. It accepts order argument. Default value is ‘C’ (for row-major order), and you can use ‘F’ to use the flatten method for column major order.\n",
    "\n",
    "* Let us see some examples. "
   ]
  },
  {
   "cell_type": "code",
   "execution_count": 0,
   "metadata": {
    "colab": {},
    "colab_type": "code",
    "id": "qkg845yzvwEl"
   },
   "outputs": [],
   "source": [
    "# array creation \n",
    "import numpy as np\n",
    " \n",
    "# Creating array from a list with type float\n",
    "A = np.array([[1, 2, 4], [5, 8, 7]], dtype = 'float')\n",
    "\n",
    "# Create a 3X4 array with all zeros. Please note, we have used double paranthesis. \n",
    "B = np.zeros((3, 4))\n",
    "\n",
    "# Create an arrary of complex numbers \n",
    "C = np.full((3, 3), 6, dtype = 'complex')\n",
    "\n",
    "# Create an array with random values\n",
    "np.random.seed(1) # A seed is set to ensure that the results are consistent if you use this array in future computations also.\n",
    "\n",
    "D = np.random.randn(2, 2)\n",
    "\n",
    "E = np.random.random((2, 2))  # Exercise : Find out the difference between D and E "
   ]
  },
  {
   "cell_type": "code",
   "execution_count": 0,
   "metadata": {
    "colab": {
     "base_uri": "https://localhost:8080/",
     "height": 381
    },
    "colab_type": "code",
    "id": "tOt4eK6Ov1HZ",
    "outputId": "8ec08029-af0c-4ec9-b76f-3562d68bce99"
   },
   "outputs": [
    {
     "name": "stdout",
     "output_type": "stream",
     "text": [
      "Array created using passed list:\n",
      " [[1. 2. 4.]\n",
      " [5. 8. 7.]]\n",
      "\n",
      "An array initialized with all zeros:\n",
      " [[0. 0. 0. 0.]\n",
      " [0. 0. 0. 0.]\n",
      " [0. 0. 0. 0.]]\n",
      "\n",
      "An array initialized with all 6s.Array type is complex:\n",
      " [[6.+0.j 6.+0.j 6.+0.j]\n",
      " [6.+0.j 6.+0.j 6.+0.j]\n",
      " [6.+0.j 6.+0.j 6.+0.j]]\n",
      "\n",
      "A random array:\n",
      " [[ 1.62434536 -0.61175641]\n",
      " [-0.52817175 -1.07296862]]\n",
      "\n",
      "Another random array:\n",
      " [[0.39676747 0.53881673]\n",
      " [0.41919451 0.6852195 ]]\n"
     ]
    }
   ],
   "source": [
    "print (\"Array created using passed list:\\n\", A)\n",
    "\n",
    "print (\"\\nAn array initialized with all zeros:\\n\", B)\n",
    "\n",
    "print (\"\\nAn array initialized with all 6s.\"\n",
    "            \"Array type is complex:\\n\", C)\n",
    "\n",
    "print (\"\\nA random array:\\n\", D)\n",
    "\n",
    "print (\"\\nAnother random array:\\n\", E)"
   ]
  },
  {
   "cell_type": "markdown",
   "metadata": {
    "colab_type": "text",
    "id": "XMnEqICewL4W"
   },
   "source": [
    "#1.14 Sequences "
   ]
  },
  {
   "cell_type": "code",
   "execution_count": 0,
   "metadata": {
    "colab": {
     "base_uri": "https://localhost:8080/",
     "height": 156
    },
    "colab_type": "code",
    "id": "cM0E1Cqhv28C",
    "outputId": "0922861e-271d-4b89-fa30-004792b74f83"
   },
   "outputs": [
    {
     "name": "stdout",
     "output_type": "stream",
     "text": [
      "\n",
      "A sequential array with steps of 5:\n",
      " [ 0  5 10 15 20 25 30 35]\n",
      "\n",
      "A sequential array with 15 values between0 and 5:\n",
      " [0.         0.35714286 0.71428571 1.07142857 1.42857143 1.78571429\n",
      " 2.14285714 2.5        2.85714286 3.21428571 3.57142857 3.92857143\n",
      " 4.28571429 4.64285714 5.        ]\n"
     ]
    }
   ],
   "source": [
    "import numpy as np\n",
    "\n",
    "# Create a sequence of integers \n",
    "# from 0 to 40 with steps of 5\n",
    "a = np.arange(0, 40, 5)\n",
    "\n",
    "# Create a sequence of 15 values in range 0 to 5\n",
    "b = np.linspace(0, 5, 15)\n",
    "\n",
    "\n",
    "print (\"\\nA sequential array with steps of 5:\\n\", a)\n",
    "print (\"\\nA sequential array with 15 values between\"\n",
    "                                        \"0 and 5:\\n\", b)\n",
    "  \n"
   ]
  },
  {
   "cell_type": "markdown",
   "metadata": {
    "colab_type": "text",
    "id": "KOJCakAawUr1"
   },
   "source": [
    "#1.15 Broadcasting\n",
    "\n",
    "The term broadcasting refers to managing arrays of different shapes during arithmetic operations in NumPy. \n",
    "\n",
    "Arithmetic operations on arrays are usually performed on corresponding elements, based on the law of matrices \\ arrays. \n",
    "\n",
    "NumPy provides a way by which dimension mismatch is taken care of. When operating on two arrays, NumPy compares their shapes element-wise. It starts with the trailing dimensions, and works its way forward. Two dimensions are compatible when they are equal, or one of them is 1\n",
    "\n",
    "For example, if you want to add an array 'b' of size (4,1) to a matrix 'A' of size (4,3), then the values in each row of 'b' are broadcasted and added in each column of the matrix 'A'. Let us see how it is done. "
   ]
  },
  {
   "cell_type": "code",
   "execution_count": 0,
   "metadata": {
    "colab": {
     "base_uri": "https://localhost:8080/",
     "height": 121
    },
    "colab_type": "code",
    "id": "5Or57s1vwQTi",
    "outputId": "8385283d-fee0-425d-b380-d2604f2049c2"
   },
   "outputs": [
    {
     "name": "stdout",
     "output_type": "stream",
     "text": [
      "[[3 3 3]\n",
      " [3 3 3]\n",
      " [3 3 3]]\n",
      "[[2 2 2]\n",
      " [2 2 2]\n",
      " [2 2 2]]\n"
     ]
    }
   ],
   "source": [
    "a = np.array([[1,1,1],[1,1,1], [1,1,1]])\n",
    "b = np.array([2,2,2])\n",
    "c = a + b \n",
    "c1= a*b #element wise multiplication. This will also be broadcasted accordingly. \n",
    "\n",
    "print(c)\n",
    "print(c1)"
   ]
  },
  {
   "cell_type": "markdown",
   "metadata": {
    "colab_type": "text",
    "id": "Qhv4hgguwax-"
   },
   "source": [
    "##1.16- Functions in Python\n",
    "\n",
    "Just as in C, Python also provides various types of functions. It gives you many built-in functions like print(), etc. but you can also create your own functions. These functions are called *user-defined functions.* \n",
    "\n",
    "In the following some simple examples of functions are given. \n",
    "\n"
   ]
  },
  {
   "cell_type": "code",
   "execution_count": 0,
   "metadata": {
    "colab": {
     "base_uri": "https://localhost:8080/",
     "height": 52
    },
    "colab_type": "code",
    "id": "wEXkyiY-wYNy",
    "outputId": "8ed46ed2-e489-4481-ea24-9d5112b7beea"
   },
   "outputs": [
    {
     "name": "stdout",
     "output_type": "stream",
     "text": [
      "Calling a user defined function!\n",
      "Again calling the function\n"
     ]
    }
   ],
   "source": [
    "# Function definition \n",
    "\n",
    "def printstr(str):\n",
    "   print(str)\n",
    "   return;\n",
    "\n",
    "# Now you can call printstr function\n",
    "printstr(\"Calling a user defined function!\")\n",
    "printstr(\"Again calling the function\")"
   ]
  },
  {
   "cell_type": "markdown",
   "metadata": {
    "colab_type": "text",
    "id": "jX2I_aYnwhAx"
   },
   "source": [
    "##1.17- Dictionary in Python\n",
    "\n",
    "As given in ( https://docs.python.org/3/tutorial/datastructures.html ) : \n",
    "\n",
    "\n",
    "\"Dictionary is a useful data type built into Python, similar to “associative memories” or “associative arrays” in some languages. A dictionary is indexed by keys, Unlike a sequence, which is indexed by a range of numbers.  A Key can be any immutable type, strings and numbers can always be keys. \n",
    "\n",
    "So a dictionary can be considered as an unordered set of key: value pairs, with the requirement that the keys are unique (within one dictionary). Each key is separated from its value by a colon (:), the items are separated by commas, and the entire unordered ke:value pair in enclosed within curly braces. \n",
    "\n",
    "A dictionary can be initialized to be an empty dictionary by using a pair of braces : {}. Placing a comma-separated list of key:value pairs within the braces adds initial key:value pairs to the dictionary; this is also the way dictionaries are written on output.\n",
    "\n",
    "Tuples can be used as keys if they contain only strings, numbers, or tuples; if a tuple contains any mutable object either directly or indirectly, it cannot be used as a key. You can’t use lists as keys, since lists can be modified in place using index assignments, slice assignments, or methods like append() and extend().\n",
    "\n",
    "* The main operations on a dictionary are storing a value with some key and extracting the value given the key. \n",
    "\n",
    "* To delete a key:value pair you can use 'del'. If you store a value using a key that is already in use, then the old value associated with that key is overwritten. \n",
    "* Use list(d.keys()) to obtain a list of all the keys used in the dictionary, in arbitrary order.\n",
    "* Use sorted(d.keys())  if you wanted it to be in a sorted order.  \n",
    "* To check whether a single key is in the dictionary, use the 'in' keyword.\n",
    "\n",
    "Here are some examples of code pieces using dictionaries:\n"
   ]
  },
  {
   "cell_type": "code",
   "execution_count": 0,
   "metadata": {
    "colab": {
     "base_uri": "https://localhost:8080/",
     "height": 52
    },
    "colab_type": "code",
    "id": "h8KigeMDweGR",
    "outputId": "1f936fa0-fb81-4b28-96dd-45da49879181"
   },
   "outputs": [
    {
     "name": "stdout",
     "output_type": "stream",
     "text": [
      "dict['Name']:  Zara\n",
      "dict['Age']:  7\n"
     ]
    }
   ],
   "source": [
    "# Dictionary \n",
    "\n",
    "dict = {'Name': 'Zara', 'Age': 7, 'Class': 'First'}\n",
    "print (\"dict['Name']: \", dict['Name'])\n",
    "print (\"dict['Age']: \", dict['Age'])"
   ]
  },
  {
   "cell_type": "code",
   "execution_count": 0,
   "metadata": {
    "colab": {
     "base_uri": "https://localhost:8080/",
     "height": 35
    },
    "colab_type": "code",
    "id": "bVKKFt0Pwk68",
    "outputId": "b86c94e4-57a1-40a2-b78c-5df99a732eb5"
   },
   "outputs": [
    {
     "name": "stdout",
     "output_type": "stream",
     "text": [
      "{2: 68, 3: 89, 4: 94, 5: 54}\n"
     ]
    }
   ],
   "source": [
    "# create a dictionary of 5 students as follows:   [roll-no: Semester Performance Index]\n",
    "# print the data\n",
    "Student= {1:75, 2: 68, 3: 89, 4: 94, 5:54 }\n",
    "del Student[1]\n",
    "print(Student)"
   ]
  },
  {
   "cell_type": "markdown",
   "metadata": {
    "colab_type": "text",
    "id": "ymlfqSTTwpxR"
   },
   "source": [
    "##1.18 Using matplotlib\n",
    "\n",
    "Matplotlib is a Python 2D plotting library which produces publication quality figures in a variety of hardcopy formats and interactive environments across platforms. Matplotlib can be used in Python scripts, the Python and IPython shells, the Jupyter notebook, web application servers, and four graphical user interface toolkits ( source: https://matplotlib.org/ , https://matplotlib.org/citing.html) \n",
    "\n",
    "Here we give a simple example of its use. "
   ]
  },
  {
   "cell_type": "code",
   "execution_count": 0,
   "metadata": {
    "colab": {
     "base_uri": "https://localhost:8080/",
     "height": 265
    },
    "colab_type": "code",
    "id": "PC4KSFhDwm5E",
    "outputId": "5e11fa4d-a44d-475e-9af8-14621460605e"
   },
   "outputs": [
    {
     "data": {
      "image/png": "[encoded data removed]",
      "text/plain": [
       "<Figure size 432x288 with 1 Axes>"
      ]
     },
     "metadata": {
      "tags": []
     },
     "output_type": "display_data"
    }
   ],
   "source": [
    "# simple plotting\n",
    "# Here, we are demonstrating the growth in GDP of China and America over a peroid of time\n",
    "\n",
    "\n",
    "from matplotlib import pyplot as plt\n",
    "\n",
    "years = [1950, 1960, 1970, 1980, 1990, 2000, 2010]\n",
    "America_gdp = [300.2, 543.3, 1075.9, 2862.5, 5979.6, 10289.7, 14958.3]\n",
    "China_gdp = [30.2, 240.3, 675.9, 1262.5, 3579.6, 7089.7, 10958.3]\n",
    "\n",
    "plt.plot(years, America_gdp, color='blue', marker='*', linestyle='solid')\n",
    "plt.plot(years, China_gdp, color='red', marker='o', linestyle='solid')\n",
    "\n",
    "plt.show()\n"
   ]
  },
  {
   "cell_type": "markdown",
   "metadata": {
    "colab_type": "text",
    "id": "AcT5xUaDxGMm"
   },
   "source": [
    "##1.19 Python - Files I/O\n",
    "\n",
    "The file object provides a set of methods to read and write on files. Some examples are given below.  "
   ]
  },
  {
   "cell_type": "code",
   "execution_count": 0,
   "metadata": {
    "colab": {
     "base_uri": "https://localhost:8080/",
     "height": 69
    },
    "colab_type": "code",
    "id": "rpdB_pnJwuc8",
    "outputId": "0f3017da-4a97-434e-cc16-f39e479dd42d"
   },
   "outputs": [
    {
     "name": "stdout",
     "output_type": "stream",
     "text": [
      "Name of the file:  sample.txt\n",
      "Read String from file3 is :  Welcome to the first Python Tutorial Session!\n",
      "\n"
     ]
    }
   ],
   "source": [
    "# File open, read and write.\n",
    "\n",
    "file1 = open(\"sample.txt\", \"wb\")\n",
    "file2 = open(\"sample1.txt\", \"w+\")\n",
    "file2.write( \"Welcome to the first Python Tutorial Session!\\n\");\n",
    "# Open a file\n",
    "file3 = open(\"sample1.txt\", \"r+\")  \n",
    "str = file3.read(80);   \n",
    "\n",
    "# For the read function, the file should be present in the same directory where your python file is stored. \n",
    "#For other places, you need to specify path \n",
    "\n",
    "print(\"Name of the file: \", file1.name)\n",
    "print(\"Read String from file3 is : \", str)\n",
    "# Close opend files\n",
    "file1.close()\n",
    "file2.close()\n",
    "file3.close()"
   ]
  },
  {
   "cell_type": "markdown",
   "metadata": {
    "colab_type": "text",
    "id": "cvnFPwWBxXU-"
   },
   "source": [
    "#1.20 Using Images "
   ]
  },
  {
   "cell_type": "code",
   "execution_count": 0,
   "metadata": {
    "colab": {},
    "colab_type": "code",
    "id": "EBU52k25xIYn"
   },
   "outputs": [],
   "source": [
    "import matplotlib.pyplot as plt\n",
    "import matplotlib.image as mpimg\n",
    "img=mpimg.imread('imgname')\n",
    "imgplot = plt.imshow(img)\n",
    "plt.show()"
   ]
  }
 ],
 "metadata": {
  "colab": {
   "collapsed_sections": [],
   "name": "CS-206(Lab Practice Set 1).ipynb",
   "provenance": []
  },
  "kernelspec": {
   "display_name": "Python 3",
   "language": "python",
   "name": "python3"
  },
  "language_info": {
   "codemirror_mode": {
    "name": "ipython",
    "version": 3
   },
   "file_extension": ".py",
   "mimetype": "text/x-python",
   "name": "python",
   "nbconvert_exporter": "python",
   "pygments_lexer": "ipython3",
   "version": "3.7.3"
  }
 },
 "nbformat": 4,
 "nbformat_minor": 1
}
